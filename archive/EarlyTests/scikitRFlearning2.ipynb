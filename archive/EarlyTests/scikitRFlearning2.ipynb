{
 "cells": [
  {
   "cell_type": "markdown",
   "metadata": {},
   "source": [
    "https://towardsdatascience.com/random-forest-in-python-24d0893d51c0"
   ]
  },
  {
   "cell_type": "code",
   "execution_count": 1,
   "metadata": {},
   "outputs": [
    {
     "data": {
      "text/html": [
       "<div>\n",
       "<style scoped>\n",
       "    .dataframe tbody tr th:only-of-type {\n",
       "        vertical-align: middle;\n",
       "    }\n",
       "\n",
       "    .dataframe tbody tr th {\n",
       "        vertical-align: top;\n",
       "    }\n",
       "\n",
       "    .dataframe thead th {\n",
       "        text-align: right;\n",
       "    }\n",
       "</style>\n",
       "<table border=\"1\" class=\"dataframe\">\n",
       "  <thead>\n",
       "    <tr style=\"text-align: right;\">\n",
       "      <th></th>\n",
       "      <th>STATION</th>\n",
       "      <th>NAME</th>\n",
       "      <th>DATE</th>\n",
       "      <th>PRCP</th>\n",
       "      <th>TMAX</th>\n",
       "      <th>TMIN</th>\n",
       "    </tr>\n",
       "  </thead>\n",
       "  <tbody>\n",
       "    <tr>\n",
       "      <th>0</th>\n",
       "      <td>GME00122362</td>\n",
       "      <td>FRANKFURT MAIN WESTEND, GM</td>\n",
       "      <td>2017-01-01</td>\n",
       "      <td>0.2</td>\n",
       "      <td>-1.3</td>\n",
       "      <td>-4.1</td>\n",
       "    </tr>\n",
       "    <tr>\n",
       "      <th>1</th>\n",
       "      <td>GME00122362</td>\n",
       "      <td>FRANKFURT MAIN WESTEND, GM</td>\n",
       "      <td>2017-01-02</td>\n",
       "      <td>0.7</td>\n",
       "      <td>3.1</td>\n",
       "      <td>-1.3</td>\n",
       "    </tr>\n",
       "    <tr>\n",
       "      <th>2</th>\n",
       "      <td>GME00122362</td>\n",
       "      <td>FRANKFURT MAIN WESTEND, GM</td>\n",
       "      <td>2017-01-03</td>\n",
       "      <td>0.2</td>\n",
       "      <td>3.8</td>\n",
       "      <td>-0.2</td>\n",
       "    </tr>\n",
       "    <tr>\n",
       "      <th>3</th>\n",
       "      <td>GME00122362</td>\n",
       "      <td>FRANKFURT MAIN WESTEND, GM</td>\n",
       "      <td>2017-01-04</td>\n",
       "      <td>2.3</td>\n",
       "      <td>5.5</td>\n",
       "      <td>1.3</td>\n",
       "    </tr>\n",
       "    <tr>\n",
       "      <th>4</th>\n",
       "      <td>GME00122362</td>\n",
       "      <td>FRANKFURT MAIN WESTEND, GM</td>\n",
       "      <td>2017-01-05</td>\n",
       "      <td>0.0</td>\n",
       "      <td>2.4</td>\n",
       "      <td>-4.7</td>\n",
       "    </tr>\n",
       "  </tbody>\n",
       "</table>\n",
       "</div>"
      ],
      "text/plain": [
       "       STATION                        NAME        DATE  PRCP  TMAX  TMIN\n",
       "0  GME00122362  FRANKFURT MAIN WESTEND, GM  2017-01-01   0.2  -1.3  -4.1\n",
       "1  GME00122362  FRANKFURT MAIN WESTEND, GM  2017-01-02   0.7   3.1  -1.3\n",
       "2  GME00122362  FRANKFURT MAIN WESTEND, GM  2017-01-03   0.2   3.8  -0.2\n",
       "3  GME00122362  FRANKFURT MAIN WESTEND, GM  2017-01-04   2.3   5.5   1.3\n",
       "4  GME00122362  FRANKFURT MAIN WESTEND, GM  2017-01-05   0.0   2.4  -4.7"
      ]
     },
     "execution_count": 1,
     "metadata": {},
     "output_type": "execute_result"
    }
   ],
   "source": [
    "# Pandas is used for data manipulation\n",
    "import pandas as pd# Read in data and display first 5 rows\n",
    "features = pd.read_csv('temps1.csv')\n",
    "features.head(5)"
   ]
  },
  {
   "cell_type": "markdown",
   "metadata": {},
   "source": [
    "Data from:\n",
    "https://www.ncdc.noaa.gov/cdo-web/"
   ]
  },
  {
   "cell_type": "code",
   "execution_count": 2,
   "metadata": {},
   "outputs": [
    {
     "data": {
      "text/html": [
       "<div>\n",
       "<style scoped>\n",
       "    .dataframe tbody tr th:only-of-type {\n",
       "        vertical-align: middle;\n",
       "    }\n",
       "\n",
       "    .dataframe tbody tr th {\n",
       "        vertical-align: top;\n",
       "    }\n",
       "\n",
       "    .dataframe thead th {\n",
       "        text-align: right;\n",
       "    }\n",
       "</style>\n",
       "<table border=\"1\" class=\"dataframe\">\n",
       "  <thead>\n",
       "    <tr style=\"text-align: right;\">\n",
       "      <th></th>\n",
       "      <th>PRCP</th>\n",
       "      <th>TMAX</th>\n",
       "      <th>TMIN</th>\n",
       "    </tr>\n",
       "  </thead>\n",
       "  <tbody>\n",
       "    <tr>\n",
       "      <th>count</th>\n",
       "      <td>1461.000000</td>\n",
       "      <td>1461.000000</td>\n",
       "      <td>1461.000000</td>\n",
       "    </tr>\n",
       "    <tr>\n",
       "      <th>mean</th>\n",
       "      <td>1.599179</td>\n",
       "      <td>16.834908</td>\n",
       "      <td>8.307255</td>\n",
       "    </tr>\n",
       "    <tr>\n",
       "      <th>std</th>\n",
       "      <td>3.916376</td>\n",
       "      <td>8.936208</td>\n",
       "      <td>6.304169</td>\n",
       "    </tr>\n",
       "    <tr>\n",
       "      <th>min</th>\n",
       "      <td>0.000000</td>\n",
       "      <td>-2.700000</td>\n",
       "      <td>-9.300000</td>\n",
       "    </tr>\n",
       "    <tr>\n",
       "      <th>25%</th>\n",
       "      <td>0.000000</td>\n",
       "      <td>9.500000</td>\n",
       "      <td>3.500000</td>\n",
       "    </tr>\n",
       "    <tr>\n",
       "      <th>50%</th>\n",
       "      <td>0.000000</td>\n",
       "      <td>16.600000</td>\n",
       "      <td>8.100000</td>\n",
       "    </tr>\n",
       "    <tr>\n",
       "      <th>75%</th>\n",
       "      <td>1.300000</td>\n",
       "      <td>24.200000</td>\n",
       "      <td>13.300000</td>\n",
       "    </tr>\n",
       "    <tr>\n",
       "      <th>max</th>\n",
       "      <td>59.700000</td>\n",
       "      <td>40.200000</td>\n",
       "      <td>23.900000</td>\n",
       "    </tr>\n",
       "  </tbody>\n",
       "</table>\n",
       "</div>"
      ],
      "text/plain": [
       "              PRCP         TMAX         TMIN\n",
       "count  1461.000000  1461.000000  1461.000000\n",
       "mean      1.599179    16.834908     8.307255\n",
       "std       3.916376     8.936208     6.304169\n",
       "min       0.000000    -2.700000    -9.300000\n",
       "25%       0.000000     9.500000     3.500000\n",
       "50%       0.000000    16.600000     8.100000\n",
       "75%       1.300000    24.200000    13.300000\n",
       "max      59.700000    40.200000    23.900000"
      ]
     },
     "execution_count": 2,
     "metadata": {},
     "output_type": "execute_result"
    }
   ],
   "source": [
    "features.describe()"
   ]
  },
  {
   "cell_type": "code",
   "execution_count": 3,
   "metadata": {},
   "outputs": [
    {
     "data": {
      "text/plain": [
       "STATION     object\n",
       "NAME        object\n",
       "DATE        object\n",
       "PRCP       float64\n",
       "TMAX       float64\n",
       "TMIN       float64\n",
       "dtype: object"
      ]
     },
     "execution_count": 3,
     "metadata": {},
     "output_type": "execute_result"
    }
   ],
   "source": [
    "features.dtypes"
   ]
  },
  {
   "cell_type": "code",
   "execution_count": 4,
   "metadata": {},
   "outputs": [],
   "source": [
    "features['DATE'] = pd.to_datetime(features['DATE'])"
   ]
  },
  {
   "cell_type": "code",
   "execution_count": 5,
   "metadata": {},
   "outputs": [],
   "source": [
    "features['day'] = features['DATE'].dt.day\n",
    "features['month'] = features['DATE'].dt.month\n",
    "features['year'] = features['DATE'].dt.year"
   ]
  },
  {
   "cell_type": "code",
   "execution_count": 6,
   "metadata": {},
   "outputs": [
    {
     "data": {
      "text/html": [
       "<div>\n",
       "<style scoped>\n",
       "    .dataframe tbody tr th:only-of-type {\n",
       "        vertical-align: middle;\n",
       "    }\n",
       "\n",
       "    .dataframe tbody tr th {\n",
       "        vertical-align: top;\n",
       "    }\n",
       "\n",
       "    .dataframe thead th {\n",
       "        text-align: right;\n",
       "    }\n",
       "</style>\n",
       "<table border=\"1\" class=\"dataframe\">\n",
       "  <thead>\n",
       "    <tr style=\"text-align: right;\">\n",
       "      <th></th>\n",
       "      <th>STATION</th>\n",
       "      <th>NAME</th>\n",
       "      <th>DATE</th>\n",
       "      <th>PRCP</th>\n",
       "      <th>TMAX</th>\n",
       "      <th>TMIN</th>\n",
       "      <th>day</th>\n",
       "      <th>month</th>\n",
       "      <th>year</th>\n",
       "      <th>day_sin</th>\n",
       "      <th>day_cos</th>\n",
       "      <th>month_sin</th>\n",
       "      <th>month_cos</th>\n",
       "    </tr>\n",
       "  </thead>\n",
       "  <tbody>\n",
       "    <tr>\n",
       "      <th>0</th>\n",
       "      <td>GME00122362</td>\n",
       "      <td>FRANKFURT MAIN WESTEND, GM</td>\n",
       "      <td>2017-01-01</td>\n",
       "      <td>0.2</td>\n",
       "      <td>-1.3</td>\n",
       "      <td>-4.1</td>\n",
       "      <td>1</td>\n",
       "      <td>1</td>\n",
       "      <td>2017</td>\n",
       "      <td>2.012985e-01</td>\n",
       "      <td>0.979530</td>\n",
       "      <td>5.000000e-01</td>\n",
       "      <td>0.866025</td>\n",
       "    </tr>\n",
       "    <tr>\n",
       "      <th>1</th>\n",
       "      <td>GME00122362</td>\n",
       "      <td>FRANKFURT MAIN WESTEND, GM</td>\n",
       "      <td>2017-01-02</td>\n",
       "      <td>0.7</td>\n",
       "      <td>3.1</td>\n",
       "      <td>-1.3</td>\n",
       "      <td>2</td>\n",
       "      <td>1</td>\n",
       "      <td>2017</td>\n",
       "      <td>3.943559e-01</td>\n",
       "      <td>0.918958</td>\n",
       "      <td>5.000000e-01</td>\n",
       "      <td>0.866025</td>\n",
       "    </tr>\n",
       "    <tr>\n",
       "      <th>2</th>\n",
       "      <td>GME00122362</td>\n",
       "      <td>FRANKFURT MAIN WESTEND, GM</td>\n",
       "      <td>2017-01-03</td>\n",
       "      <td>0.2</td>\n",
       "      <td>3.8</td>\n",
       "      <td>-0.2</td>\n",
       "      <td>3</td>\n",
       "      <td>1</td>\n",
       "      <td>2017</td>\n",
       "      <td>5.712682e-01</td>\n",
       "      <td>0.820763</td>\n",
       "      <td>5.000000e-01</td>\n",
       "      <td>0.866025</td>\n",
       "    </tr>\n",
       "    <tr>\n",
       "      <th>3</th>\n",
       "      <td>GME00122362</td>\n",
       "      <td>FRANKFURT MAIN WESTEND, GM</td>\n",
       "      <td>2017-01-04</td>\n",
       "      <td>2.3</td>\n",
       "      <td>5.5</td>\n",
       "      <td>1.3</td>\n",
       "      <td>4</td>\n",
       "      <td>1</td>\n",
       "      <td>2017</td>\n",
       "      <td>7.247928e-01</td>\n",
       "      <td>0.688967</td>\n",
       "      <td>5.000000e-01</td>\n",
       "      <td>0.866025</td>\n",
       "    </tr>\n",
       "    <tr>\n",
       "      <th>4</th>\n",
       "      <td>GME00122362</td>\n",
       "      <td>FRANKFURT MAIN WESTEND, GM</td>\n",
       "      <td>2017-01-05</td>\n",
       "      <td>0.0</td>\n",
       "      <td>2.4</td>\n",
       "      <td>-4.7</td>\n",
       "      <td>5</td>\n",
       "      <td>1</td>\n",
       "      <td>2017</td>\n",
       "      <td>8.486443e-01</td>\n",
       "      <td>0.528964</td>\n",
       "      <td>5.000000e-01</td>\n",
       "      <td>0.866025</td>\n",
       "    </tr>\n",
       "    <tr>\n",
       "      <th>...</th>\n",
       "      <td>...</td>\n",
       "      <td>...</td>\n",
       "      <td>...</td>\n",
       "      <td>...</td>\n",
       "      <td>...</td>\n",
       "      <td>...</td>\n",
       "      <td>...</td>\n",
       "      <td>...</td>\n",
       "      <td>...</td>\n",
       "      <td>...</td>\n",
       "      <td>...</td>\n",
       "      <td>...</td>\n",
       "      <td>...</td>\n",
       "    </tr>\n",
       "    <tr>\n",
       "      <th>1456</th>\n",
       "      <td>GME00122362</td>\n",
       "      <td>FRANKFURT MAIN WESTEND, GM</td>\n",
       "      <td>2020-12-27</td>\n",
       "      <td>6.1</td>\n",
       "      <td>5.3</td>\n",
       "      <td>0.4</td>\n",
       "      <td>27</td>\n",
       "      <td>12</td>\n",
       "      <td>2020</td>\n",
       "      <td>-7.247928e-01</td>\n",
       "      <td>0.688967</td>\n",
       "      <td>-2.449294e-16</td>\n",
       "      <td>1.000000</td>\n",
       "    </tr>\n",
       "    <tr>\n",
       "      <th>1457</th>\n",
       "      <td>GME00122362</td>\n",
       "      <td>FRANKFURT MAIN WESTEND, GM</td>\n",
       "      <td>2020-12-28</td>\n",
       "      <td>4.5</td>\n",
       "      <td>6.2</td>\n",
       "      <td>2.7</td>\n",
       "      <td>28</td>\n",
       "      <td>12</td>\n",
       "      <td>2020</td>\n",
       "      <td>-5.712682e-01</td>\n",
       "      <td>0.820763</td>\n",
       "      <td>-2.449294e-16</td>\n",
       "      <td>1.000000</td>\n",
       "    </tr>\n",
       "    <tr>\n",
       "      <th>1458</th>\n",
       "      <td>GME00122362</td>\n",
       "      <td>FRANKFURT MAIN WESTEND, GM</td>\n",
       "      <td>2020-12-29</td>\n",
       "      <td>0.5</td>\n",
       "      <td>5.3</td>\n",
       "      <td>1.9</td>\n",
       "      <td>29</td>\n",
       "      <td>12</td>\n",
       "      <td>2020</td>\n",
       "      <td>-3.943559e-01</td>\n",
       "      <td>0.918958</td>\n",
       "      <td>-2.449294e-16</td>\n",
       "      <td>1.000000</td>\n",
       "    </tr>\n",
       "    <tr>\n",
       "      <th>1459</th>\n",
       "      <td>GME00122362</td>\n",
       "      <td>FRANKFURT MAIN WESTEND, GM</td>\n",
       "      <td>2020-12-30</td>\n",
       "      <td>0.0</td>\n",
       "      <td>5.5</td>\n",
       "      <td>2.2</td>\n",
       "      <td>30</td>\n",
       "      <td>12</td>\n",
       "      <td>2020</td>\n",
       "      <td>-2.012985e-01</td>\n",
       "      <td>0.979530</td>\n",
       "      <td>-2.449294e-16</td>\n",
       "      <td>1.000000</td>\n",
       "    </tr>\n",
       "    <tr>\n",
       "      <th>1460</th>\n",
       "      <td>GME00122362</td>\n",
       "      <td>FRANKFURT MAIN WESTEND, GM</td>\n",
       "      <td>2020-12-31</td>\n",
       "      <td>3.1</td>\n",
       "      <td>3.3</td>\n",
       "      <td>1.7</td>\n",
       "      <td>31</td>\n",
       "      <td>12</td>\n",
       "      <td>2020</td>\n",
       "      <td>-2.449294e-16</td>\n",
       "      <td>1.000000</td>\n",
       "      <td>-2.449294e-16</td>\n",
       "      <td>1.000000</td>\n",
       "    </tr>\n",
       "  </tbody>\n",
       "</table>\n",
       "<p>1461 rows × 13 columns</p>\n",
       "</div>"
      ],
      "text/plain": [
       "          STATION                        NAME       DATE  PRCP  TMAX  TMIN  \\\n",
       "0     GME00122362  FRANKFURT MAIN WESTEND, GM 2017-01-01   0.2  -1.3  -4.1   \n",
       "1     GME00122362  FRANKFURT MAIN WESTEND, GM 2017-01-02   0.7   3.1  -1.3   \n",
       "2     GME00122362  FRANKFURT MAIN WESTEND, GM 2017-01-03   0.2   3.8  -0.2   \n",
       "3     GME00122362  FRANKFURT MAIN WESTEND, GM 2017-01-04   2.3   5.5   1.3   \n",
       "4     GME00122362  FRANKFURT MAIN WESTEND, GM 2017-01-05   0.0   2.4  -4.7   \n",
       "...           ...                         ...        ...   ...   ...   ...   \n",
       "1456  GME00122362  FRANKFURT MAIN WESTEND, GM 2020-12-27   6.1   5.3   0.4   \n",
       "1457  GME00122362  FRANKFURT MAIN WESTEND, GM 2020-12-28   4.5   6.2   2.7   \n",
       "1458  GME00122362  FRANKFURT MAIN WESTEND, GM 2020-12-29   0.5   5.3   1.9   \n",
       "1459  GME00122362  FRANKFURT MAIN WESTEND, GM 2020-12-30   0.0   5.5   2.2   \n",
       "1460  GME00122362  FRANKFURT MAIN WESTEND, GM 2020-12-31   3.1   3.3   1.7   \n",
       "\n",
       "      day  month  year       day_sin   day_cos     month_sin  month_cos  \n",
       "0       1      1  2017  2.012985e-01  0.979530  5.000000e-01   0.866025  \n",
       "1       2      1  2017  3.943559e-01  0.918958  5.000000e-01   0.866025  \n",
       "2       3      1  2017  5.712682e-01  0.820763  5.000000e-01   0.866025  \n",
       "3       4      1  2017  7.247928e-01  0.688967  5.000000e-01   0.866025  \n",
       "4       5      1  2017  8.486443e-01  0.528964  5.000000e-01   0.866025  \n",
       "...   ...    ...   ...           ...       ...           ...        ...  \n",
       "1456   27     12  2020 -7.247928e-01  0.688967 -2.449294e-16   1.000000  \n",
       "1457   28     12  2020 -5.712682e-01  0.820763 -2.449294e-16   1.000000  \n",
       "1458   29     12  2020 -3.943559e-01  0.918958 -2.449294e-16   1.000000  \n",
       "1459   30     12  2020 -2.012985e-01  0.979530 -2.449294e-16   1.000000  \n",
       "1460   31     12  2020 -2.449294e-16  1.000000 -2.449294e-16   1.000000  \n",
       "\n",
       "[1461 rows x 13 columns]"
      ]
     },
     "execution_count": 6,
     "metadata": {},
     "output_type": "execute_result"
    }
   ],
   "source": [
    "import numpy as np\n",
    "# make features cyclical\n",
    "features['day_sin'] = np.sin(features['day']*(2.*np.pi/31))\n",
    "features['day_cos'] = np.cos(features['day']*(2.*np.pi/31))\n",
    "features['month_sin'] = np.sin(features['month']*(2.*np.pi/12))\n",
    "features['month_cos'] = np.cos(features['month']*(2.*np.pi/12))\n",
    "features"
   ]
  },
  {
   "cell_type": "code",
   "execution_count": null,
   "metadata": {},
   "outputs": [],
   "source": []
  },
  {
   "cell_type": "markdown",
   "metadata": {},
   "source": [
    "cyclical method from: http://blog.davidkaleko.com/feature-engineering-cyclical-features.html"
   ]
  },
  {
   "cell_type": "code",
   "execution_count": 7,
   "metadata": {},
   "outputs": [],
   "source": [
    "labels = np.array(features['TMAX'])"
   ]
  },
  {
   "cell_type": "code",
   "execution_count": 8,
   "metadata": {},
   "outputs": [
    {
     "data": {
      "text/html": [
       "<div>\n",
       "<style scoped>\n",
       "    .dataframe tbody tr th:only-of-type {\n",
       "        vertical-align: middle;\n",
       "    }\n",
       "\n",
       "    .dataframe tbody tr th {\n",
       "        vertical-align: top;\n",
       "    }\n",
       "\n",
       "    .dataframe thead th {\n",
       "        text-align: right;\n",
       "    }\n",
       "</style>\n",
       "<table border=\"1\" class=\"dataframe\">\n",
       "  <thead>\n",
       "    <tr style=\"text-align: right;\">\n",
       "      <th></th>\n",
       "      <th>PRCP</th>\n",
       "      <th>year</th>\n",
       "      <th>day_sin</th>\n",
       "      <th>day_cos</th>\n",
       "      <th>month_sin</th>\n",
       "      <th>month_cos</th>\n",
       "    </tr>\n",
       "  </thead>\n",
       "  <tbody>\n",
       "    <tr>\n",
       "      <th>0</th>\n",
       "      <td>0.2</td>\n",
       "      <td>2017</td>\n",
       "      <td>2.012985e-01</td>\n",
       "      <td>0.979530</td>\n",
       "      <td>5.000000e-01</td>\n",
       "      <td>0.866025</td>\n",
       "    </tr>\n",
       "    <tr>\n",
       "      <th>1</th>\n",
       "      <td>0.7</td>\n",
       "      <td>2017</td>\n",
       "      <td>3.943559e-01</td>\n",
       "      <td>0.918958</td>\n",
       "      <td>5.000000e-01</td>\n",
       "      <td>0.866025</td>\n",
       "    </tr>\n",
       "    <tr>\n",
       "      <th>2</th>\n",
       "      <td>0.2</td>\n",
       "      <td>2017</td>\n",
       "      <td>5.712682e-01</td>\n",
       "      <td>0.820763</td>\n",
       "      <td>5.000000e-01</td>\n",
       "      <td>0.866025</td>\n",
       "    </tr>\n",
       "    <tr>\n",
       "      <th>3</th>\n",
       "      <td>2.3</td>\n",
       "      <td>2017</td>\n",
       "      <td>7.247928e-01</td>\n",
       "      <td>0.688967</td>\n",
       "      <td>5.000000e-01</td>\n",
       "      <td>0.866025</td>\n",
       "    </tr>\n",
       "    <tr>\n",
       "      <th>4</th>\n",
       "      <td>0.0</td>\n",
       "      <td>2017</td>\n",
       "      <td>8.486443e-01</td>\n",
       "      <td>0.528964</td>\n",
       "      <td>5.000000e-01</td>\n",
       "      <td>0.866025</td>\n",
       "    </tr>\n",
       "    <tr>\n",
       "      <th>...</th>\n",
       "      <td>...</td>\n",
       "      <td>...</td>\n",
       "      <td>...</td>\n",
       "      <td>...</td>\n",
       "      <td>...</td>\n",
       "      <td>...</td>\n",
       "    </tr>\n",
       "    <tr>\n",
       "      <th>1456</th>\n",
       "      <td>6.1</td>\n",
       "      <td>2020</td>\n",
       "      <td>-7.247928e-01</td>\n",
       "      <td>0.688967</td>\n",
       "      <td>-2.449294e-16</td>\n",
       "      <td>1.000000</td>\n",
       "    </tr>\n",
       "    <tr>\n",
       "      <th>1457</th>\n",
       "      <td>4.5</td>\n",
       "      <td>2020</td>\n",
       "      <td>-5.712682e-01</td>\n",
       "      <td>0.820763</td>\n",
       "      <td>-2.449294e-16</td>\n",
       "      <td>1.000000</td>\n",
       "    </tr>\n",
       "    <tr>\n",
       "      <th>1458</th>\n",
       "      <td>0.5</td>\n",
       "      <td>2020</td>\n",
       "      <td>-3.943559e-01</td>\n",
       "      <td>0.918958</td>\n",
       "      <td>-2.449294e-16</td>\n",
       "      <td>1.000000</td>\n",
       "    </tr>\n",
       "    <tr>\n",
       "      <th>1459</th>\n",
       "      <td>0.0</td>\n",
       "      <td>2020</td>\n",
       "      <td>-2.012985e-01</td>\n",
       "      <td>0.979530</td>\n",
       "      <td>-2.449294e-16</td>\n",
       "      <td>1.000000</td>\n",
       "    </tr>\n",
       "    <tr>\n",
       "      <th>1460</th>\n",
       "      <td>3.1</td>\n",
       "      <td>2020</td>\n",
       "      <td>-2.449294e-16</td>\n",
       "      <td>1.000000</td>\n",
       "      <td>-2.449294e-16</td>\n",
       "      <td>1.000000</td>\n",
       "    </tr>\n",
       "  </tbody>\n",
       "</table>\n",
       "<p>1461 rows × 6 columns</p>\n",
       "</div>"
      ],
      "text/plain": [
       "      PRCP  year       day_sin   day_cos     month_sin  month_cos\n",
       "0      0.2  2017  2.012985e-01  0.979530  5.000000e-01   0.866025\n",
       "1      0.7  2017  3.943559e-01  0.918958  5.000000e-01   0.866025\n",
       "2      0.2  2017  5.712682e-01  0.820763  5.000000e-01   0.866025\n",
       "3      2.3  2017  7.247928e-01  0.688967  5.000000e-01   0.866025\n",
       "4      0.0  2017  8.486443e-01  0.528964  5.000000e-01   0.866025\n",
       "...    ...   ...           ...       ...           ...        ...\n",
       "1456   6.1  2020 -7.247928e-01  0.688967 -2.449294e-16   1.000000\n",
       "1457   4.5  2020 -5.712682e-01  0.820763 -2.449294e-16   1.000000\n",
       "1458   0.5  2020 -3.943559e-01  0.918958 -2.449294e-16   1.000000\n",
       "1459   0.0  2020 -2.012985e-01  0.979530 -2.449294e-16   1.000000\n",
       "1460   3.1  2020 -2.449294e-16  1.000000 -2.449294e-16   1.000000\n",
       "\n",
       "[1461 rows x 6 columns]"
      ]
     },
     "execution_count": 8,
     "metadata": {},
     "output_type": "execute_result"
    }
   ],
   "source": [
    "features = features.drop(['STATION', 'NAME', 'TMAX', 'TMIN', 'DATE', 'day', 'month'], axis=1)\n",
    "features"
   ]
  },
  {
   "cell_type": "code",
   "execution_count": null,
   "metadata": {},
   "outputs": [],
   "source": []
  },
  {
   "cell_type": "code",
   "execution_count": 9,
   "metadata": {},
   "outputs": [],
   "source": [
    "feature_list = list(features.columns)"
   ]
  },
  {
   "cell_type": "code",
   "execution_count": 10,
   "metadata": {},
   "outputs": [],
   "source": [
    "features = np.array(features)"
   ]
  },
  {
   "cell_type": "code",
   "execution_count": 11,
   "metadata": {},
   "outputs": [],
   "source": [
    "from sklearn.model_selection import train_test_split\n",
    "\n",
    "train_features, test_features, train_labels, test_labels = train_test_split(features, labels, test_size = 0.25, random_state = 42)"
   ]
  },
  {
   "cell_type": "code",
   "execution_count": null,
   "metadata": {},
   "outputs": [],
   "source": []
  },
  {
   "cell_type": "code",
   "execution_count": 12,
   "metadata": {},
   "outputs": [
    {
     "name": "stdout",
     "output_type": "stream",
     "text": [
      "The mean error if we just predicted the average temperature everyday would be: 7.696 °C\n"
     ]
    }
   ],
   "source": [
    "# test the error on predicting with average\n",
    "mean_error = round(np.mean(abs(test_labels - np.mean(test_labels))), 3)\n",
    "print(\"The mean error if we just predicted the average temperature everyday would be:\", mean_error, \"°C\")"
   ]
  },
  {
   "cell_type": "code",
   "execution_count": 13,
   "metadata": {},
   "outputs": [
    {
     "data": {
      "text/plain": [
       "RandomForestRegressor(n_estimators=1000, random_state=42)"
      ]
     },
     "execution_count": 13,
     "metadata": {},
     "output_type": "execute_result"
    }
   ],
   "source": [
    "from sklearn.ensemble import RandomForestRegressor\n",
    "\n",
    "rf = RandomForestRegressor(n_estimators=1000, random_state=42)\n",
    "rf.fit(train_features, train_labels)"
   ]
  },
  {
   "cell_type": "code",
   "execution_count": 14,
   "metadata": {},
   "outputs": [
    {
     "name": "stdout",
     "output_type": "stream",
     "text": [
      "Mean Absolute Error: 2.7 °C.\n"
     ]
    }
   ],
   "source": [
    "predictions = rf.predict(test_features)\n",
    "errors = abs(predictions - test_labels)\n",
    "print('Mean Absolute Error:', round(np.mean(errors), 2), '°C.')"
   ]
  },
  {
   "cell_type": "code",
   "execution_count": 15,
   "metadata": {},
   "outputs": [
    {
     "name": "stdout",
     "output_type": "stream",
     "text": [
      "Accuracy: 69.55 %.\n"
     ]
    }
   ],
   "source": [
    "mape = 100 * (errors / test_labels)\n",
    "# Calculate and display accuracy\n",
    "accuracy = 100 - np.mean(mape)\n",
    "print('Accuracy:', round(accuracy, 2), '%.')"
   ]
  },
  {
   "cell_type": "code",
   "execution_count": 16,
   "metadata": {},
   "outputs": [
    {
     "name": "stdout",
     "output_type": "stream",
     "text": [
      "Mean Absolute Error: 3.06 °C.\n"
     ]
    }
   ],
   "source": [
    "rf_small = RandomForestRegressor(n_estimators=1500, max_depth=5)\n",
    "rf_small.fit(train_features, train_labels)\n",
    "\n",
    "predictions_small = rf_small.predict(test_features)\n",
    "errors_small = abs(predictions_small - test_labels)\n",
    "print('Mean Absolute Error:', round(np.mean(errors_small), 2), '°C.')"
   ]
  },
  {
   "cell_type": "code",
   "execution_count": 17,
   "metadata": {},
   "outputs": [
    {
     "name": "stdout",
     "output_type": "stream",
     "text": [
      "Accuracy: 63.88 %.\n"
     ]
    }
   ],
   "source": [
    "mape_small = 100 * (errors_small / test_labels)\n",
    "# Calculate and display accuracy\n",
    "accuracy_small = 100 - np.mean(mape_small)\n",
    "print('Accuracy:', round(accuracy_small, 2), '%.')"
   ]
  },
  {
   "cell_type": "code",
   "execution_count": 18,
   "metadata": {},
   "outputs": [
    {
     "name": "stdout",
     "output_type": "stream",
     "text": [
      "Variable: month_cos            Importance: 0.53\n",
      "Variable: month_sin            Importance: 0.24\n",
      "Variable: day_sin              Importance: 0.07\n",
      "Variable: year                 Importance: 0.06\n",
      "Variable: PRCP                 Importance: 0.05\n",
      "Variable: day_cos              Importance: 0.05\n"
     ]
    }
   ],
   "source": [
    "# Get numerical feature importances\n",
    "importances = list(rf.feature_importances_)\n",
    "# List of tuples with variable and importance\n",
    "feature_importances = [(feature, round(importance, 2)) for feature, importance in zip(feature_list, importances)]\n",
    "# Sort the feature importances by most important first\n",
    "feature_importances = sorted(feature_importances, key = lambda x: x[1], reverse = True)\n",
    "# Print out the feature and importances \n",
    "[print('Variable: {:20} Importance: {}'.format(*pair)) for pair in feature_importances];"
   ]
  },
  {
   "cell_type": "code",
   "execution_count": null,
   "metadata": {},
   "outputs": [],
   "source": []
  }
 ],
 "metadata": {
  "interpreter": {
   "hash": "fb487646d2ff43bdda56d3757f53914077f9958e378e2f12b27b72e0e80564a5"
  },
  "kernelspec": {
   "display_name": "Python 3.7.4 64-bit ('base': conda)",
   "name": "python3"
  },
  "language_info": {
   "codemirror_mode": {
    "name": "ipython",
    "version": 3
   },
   "file_extension": ".py",
   "mimetype": "text/x-python",
   "name": "python",
   "nbconvert_exporter": "python",
   "pygments_lexer": "ipython3",
   "version": "3.7.4"
  }
 },
 "nbformat": 4,
 "nbformat_minor": 4
}
